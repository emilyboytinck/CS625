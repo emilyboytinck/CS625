{
 "cells": [
  {
   "cell_type": "markdown",
   "id": "fc602641-d61f-434d-aab4-a00982faa791",
   "metadata": {},
   "source": [
    "# CS 625 Final Exam Part II\n",
    "Emily Boytinck \n",
    "July 24 2024"
   ]
  },
  {
   "cell_type": "markdown",
   "id": "4eab3aa0-5eb8-4035-9012-c3417951f75b",
   "metadata": {},
   "source": [
    "Question 2: \n",
    "\n",
    "Write a program where you: \n",
    "- Create a queue from python's import lbirary\n",
    "- Create an object for that queue\n",
    "- Add an element to that queue\n",
    "- pop an element from the queue\n",
    "- show your output"
   ]
  },
  {
   "cell_type": "code",
   "execution_count": 1,
   "id": "4b3f5dc8-1c35-4a83-a08d-60ac4c620c01",
   "metadata": {},
   "outputs": [],
   "source": [
    "#create a queue from import library \n",
    "from collections import deque"
   ]
  },
  {
   "cell_type": "code",
   "execution_count": 2,
   "id": "5a5ff660-14e4-4b92-8e5f-ef3de24ed2a3",
   "metadata": {},
   "outputs": [],
   "source": [
    "#define queue\n",
    "class Queue:\n",
    "    def __init__(self):\n",
    "        self.queue = deque()\n",
    "\n",
    "    def add (self, item):\n",
    "        self.queue.append(item)\n",
    "\n",
    "    def pop(self):\n",
    "        if not len(self.queue)== 0: \n",
    "            return self.queue.popleft()\n",
    "        else:\n",
    "            return \"Queue is empty\""
   ]
  },
  {
   "cell_type": "code",
   "execution_count": 3,
   "id": "9b286daf-6985-4ea6-a3b3-4f96de450455",
   "metadata": {},
   "outputs": [],
   "source": [
    "#create an object for the queue\n",
    "my_queue = Queue()"
   ]
  },
  {
   "cell_type": "code",
   "execution_count": 4,
   "id": "a65c2fa4-1625-42f5-9f7d-47f0ea6defad",
   "metadata": {},
   "outputs": [],
   "source": [
    "#add an element to the queue\n",
    "my_queue.add(2)"
   ]
  },
  {
   "cell_type": "code",
   "execution_count": 5,
   "id": "1677dc58-87dd-4bb0-8e71-8e234855cb1c",
   "metadata": {},
   "outputs": [],
   "source": [
    "#add other elements to test\n",
    "my_queue.add(4)\n",
    "my_queue.add(6)\n",
    "my_queue.add(8)\n"
   ]
  },
  {
   "cell_type": "code",
   "execution_count": 6,
   "id": "71c0f89a-b079-433b-ac89-2e1ba6245dff",
   "metadata": {},
   "outputs": [
    {
     "data": {
      "text/plain": [
       "2"
      ]
     },
     "execution_count": 6,
     "metadata": {},
     "output_type": "execute_result"
    }
   ],
   "source": [
    "my_queue.pop()"
   ]
  },
  {
   "cell_type": "code",
   "execution_count": 7,
   "id": "82749cf0-6a62-4189-b191-e9aba5a0f838",
   "metadata": {},
   "outputs": [
    {
     "data": {
      "text/plain": [
       "4"
      ]
     },
     "execution_count": 7,
     "metadata": {},
     "output_type": "execute_result"
    }
   ],
   "source": [
    "#pop other elements to test \n",
    "my_queue.pop()"
   ]
  },
  {
   "cell_type": "code",
   "execution_count": 8,
   "id": "4047a79d-dfd8-4960-a6c6-02df4c30e90b",
   "metadata": {},
   "outputs": [
    {
     "data": {
      "text/plain": [
       "6"
      ]
     },
     "execution_count": 8,
     "metadata": {},
     "output_type": "execute_result"
    }
   ],
   "source": [
    "my_queue.pop()"
   ]
  },
  {
   "cell_type": "code",
   "execution_count": 9,
   "id": "58dc4276-6b71-4675-85fb-48a051c6289c",
   "metadata": {},
   "outputs": [
    {
     "data": {
      "text/plain": [
       "8"
      ]
     },
     "execution_count": 9,
     "metadata": {},
     "output_type": "execute_result"
    }
   ],
   "source": [
    "my_queue.pop()"
   ]
  },
  {
   "cell_type": "code",
   "execution_count": 10,
   "id": "47e7d362-1136-4019-8e57-05173c47fa87",
   "metadata": {},
   "outputs": [
    {
     "data": {
      "text/plain": [
       "'Queue is empty'"
      ]
     },
     "execution_count": 10,
     "metadata": {},
     "output_type": "execute_result"
    }
   ],
   "source": [
    "my_queue.pop()"
   ]
  },
  {
   "cell_type": "markdown",
   "id": "1e1c6804-5916-41a4-8262-7e3f1a30b7ce",
   "metadata": {},
   "source": [
    "My queue appears to be working as intended. "
   ]
  }
 ],
 "metadata": {
  "kernelspec": {
   "display_name": "Python 3 (ipykernel)",
   "language": "python",
   "name": "python3"
  },
  "language_info": {
   "codemirror_mode": {
    "name": "ipython",
    "version": 3
   },
   "file_extension": ".py",
   "mimetype": "text/x-python",
   "name": "python",
   "nbconvert_exporter": "python",
   "pygments_lexer": "ipython3",
   "version": "3.12.3"
  }
 },
 "nbformat": 4,
 "nbformat_minor": 5
}
