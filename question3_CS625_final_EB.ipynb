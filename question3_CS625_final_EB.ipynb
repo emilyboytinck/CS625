{
 "cells": [
  {
   "cell_type": "markdown",
   "id": "56643e5a-1c1b-4ee7-87e5-6415e4adb04a",
   "metadata": {},
   "source": [
    "Create a priority queue from python's import library "
   ]
  },
  {
   "cell_type": "code",
   "execution_count": 1,
   "id": "d1416658-b687-4505-879f-ffdf6c3890de",
   "metadata": {},
   "outputs": [],
   "source": [
    "from collections import deque"
   ]
  },
  {
   "cell_type": "code",
   "execution_count": 5,
   "id": "59c75f88-cdc7-45b8-b52f-efb414ba81c3",
   "metadata": {},
   "outputs": [],
   "source": [
    "#start by defining a queue \n",
    "\n",
    "class priority_queue:\n",
    "    def __init__(self):\n",
    "        self.priority_queue = deque()\n",
    "\n",
    "    def add(self, item):\n",
    "        self.priority_queue.append(item)\n",
    "\n",
    "    def pop(self):\n",
    "        try:\n",
    "            max_val = 0\n",
    "            for x in range(len(self.priority_queue)): \n",
    "                if self.priority_queue[x] > self.priority_queue[max_val]: \n",
    "                    max_val = x\n",
    "                item = self.priority_queue[max_val] \n",
    "                del self.priority_queue[max_val]\n",
    "                return item \n",
    "        except IndexError: \n",
    "            print()\n",
    "            exit()"
   ]
  },
  {
   "cell_type": "code",
   "execution_count": 6,
   "id": "5b51bd76-38d0-4fa7-9900-24bf0cdc58d9",
   "metadata": {},
   "outputs": [],
   "source": [
    "#create an object for that priority queue \n",
    "my_pqueue = priority_queue()"
   ]
  },
  {
   "cell_type": "code",
   "execution_count": 7,
   "id": "b84fa9eb-6d28-43f5-b760-fa8e6eef28d9",
   "metadata": {},
   "outputs": [],
   "source": [
    "#add items to priority queue\n",
    "my_pqueue.add(2)"
   ]
  },
  {
   "cell_type": "code",
   "execution_count": 8,
   "id": "48f79ea9-77c0-4c38-94b3-c5b939b38d1d",
   "metadata": {},
   "outputs": [],
   "source": [
    "my_pqueue.add(4)"
   ]
  },
  {
   "cell_type": "code",
   "execution_count": 9,
   "id": "4936746f-21f6-42f7-a3b0-ae13854dbba7",
   "metadata": {},
   "outputs": [],
   "source": [
    "my_pqueue.add(6)"
   ]
  },
  {
   "cell_type": "code",
   "execution_count": 10,
   "id": "58260fbf-49a7-49d8-b2f0-b2e00f9fc3f3",
   "metadata": {},
   "outputs": [],
   "source": [
    "my_pqueue.add(8)"
   ]
  },
  {
   "cell_type": "code",
   "execution_count": 12,
   "id": "3a6ead0f-da62-41dd-8060-850926c13e1a",
   "metadata": {},
   "outputs": [
    {
     "data": {
      "text/plain": [
       "2"
      ]
     },
     "execution_count": 12,
     "metadata": {},
     "output_type": "execute_result"
    }
   ],
   "source": [
    "#pop an element from the priority queue \n",
    "my_pqueue.pop()"
   ]
  },
  {
   "cell_type": "code",
   "execution_count": 13,
   "id": "f67d75e0-7581-452c-bc8c-dc5ef2d55bf1",
   "metadata": {},
   "outputs": [
    {
     "data": {
      "text/plain": [
       "4"
      ]
     },
     "execution_count": 13,
     "metadata": {},
     "output_type": "execute_result"
    }
   ],
   "source": [
    "my_pqueue.pop()"
   ]
  },
  {
   "cell_type": "code",
   "execution_count": null,
   "id": "5ef042b0-89ba-477c-8074-97faf59758a1",
   "metadata": {},
   "outputs": [],
   "source": []
  }
 ],
 "metadata": {
  "kernelspec": {
   "display_name": "Python 3 (ipykernel)",
   "language": "python",
   "name": "python3"
  },
  "language_info": {
   "codemirror_mode": {
    "name": "ipython",
    "version": 3
   },
   "file_extension": ".py",
   "mimetype": "text/x-python",
   "name": "python",
   "nbconvert_exporter": "python",
   "pygments_lexer": "ipython3",
   "version": "3.12.3"
  }
 },
 "nbformat": 4,
 "nbformat_minor": 5
}
